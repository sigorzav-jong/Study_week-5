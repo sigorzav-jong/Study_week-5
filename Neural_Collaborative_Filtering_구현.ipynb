{
  "cells": [
    {
      "cell_type": "markdown",
      "metadata": {
        "id": "IF2lN7b3KxIM"
      },
      "source": [
        "# Neural Collaborative Filtering\n",
        "https://github.com/hexiangnan/neural_collaborative_filtering\n"
      ]
    },
    {
      "cell_type": "markdown",
      "metadata": {
        "id": "Vwo_-gxkMHvu"
      },
      "source": [
        "## Configuration"
      ]
    },
    {
      "cell_type": "code",
      "execution_count": null,
      "metadata": {
        "ExecuteTime": {
          "end_time": "2023-08-29T05:51:31.648138Z",
          "start_time": "2023-08-29T05:50:58.083917Z"
        },
        "id": "d9AiEKJN4em-",
        "outputId": "de834e81-dc23-47a7-ad88-b631213549d7"
      },
      "outputs": [
        {
          "name": "stdout",
          "output_type": "stream",
          "text": [
            "Collecting torch\n",
            "  Downloading torch-2.0.1-cp39-none-macosx_10_9_x86_64.whl (143.4 MB)\n",
            "\u001b[K     |████████████████████████████████| 143.4 MB 1.1 MB/s eta 0:00:01\n",
            "\u001b[?25hRequirement already satisfied: filelock in /Users/donggunhan/opt/anaconda3/lib/python3.9/site-packages (from torch) (3.6.0)\n",
            "Requirement already satisfied: typing-extensions in /Users/donggunhan/opt/anaconda3/lib/python3.9/site-packages (from torch) (4.1.1)\n",
            "Requirement already satisfied: networkx in /Users/donggunhan/opt/anaconda3/lib/python3.9/site-packages (from torch) (2.7.1)\n",
            "Requirement already satisfied: jinja2 in /Users/donggunhan/opt/anaconda3/lib/python3.9/site-packages (from torch) (2.11.3)\n",
            "Requirement already satisfied: sympy in /Users/donggunhan/opt/anaconda3/lib/python3.9/site-packages (from torch) (1.10.1)\n",
            "Requirement already satisfied: MarkupSafe>=0.23 in /Users/donggunhan/opt/anaconda3/lib/python3.9/site-packages (from jinja2->torch) (2.0.1)\n",
            "Requirement already satisfied: mpmath>=0.19 in /Users/donggunhan/opt/anaconda3/lib/python3.9/site-packages (from sympy->torch) (1.2.1)\n",
            "Installing collected packages: torch\n",
            "Successfully installed torch-2.0.1\n"
          ]
        }
      ],
      "source": [
        "!pip install torch\n"
      ]
    },
    {
      "cell_type": "code",
      "execution_count": 6,
      "metadata": {
        "ExecuteTime": {
          "end_time": "2023-08-29T05:52:17.962273Z",
          "start_time": "2023-08-29T05:51:39.070469Z"
        },
        "id": "9BUxy0TqJpIZ"
      },
      "outputs": [],
      "source": [
        "import os\n",
        "import pandas as pd\n",
        "import numpy as np\n",
        "from matplotlib import pyplot as plt\n",
        "from sklearn.model_selection import train_test_split\n",
        "\n",
        "import math\n",
        "from torch import nn, optim\n",
        "import torch\n",
        "import torch.nn.functional as F\n",
        "from torch.autograd import Variable\n",
        "\n",
        "from tqdm import tqdm\n",
        "import warnings\n",
        "warnings.filterwarnings(\"ignore\")"
      ]
    },
    {
      "cell_type": "markdown",
      "metadata": {
        "id": "Sd5EcJo-MNYF"
      },
      "source": [
        "## Load Dataset\n",
        "- KMRD 데이터셋 활용\n"
      ]
    },
    {
      "cell_type": "code",
      "source": [
        "from google.colab import drive\n",
        "drive.mount('/content/drive')"
      ],
      "metadata": {
        "colab": {
          "base_uri": "https://localhost:8080/"
        },
        "id": "JbghBTIg4qCY",
        "outputId": "e1d24c59-9df3-4787-c917-a8670b01a6cf"
      },
      "execution_count": 2,
      "outputs": [
        {
          "output_type": "stream",
          "name": "stdout",
          "text": [
            "Mounted at /content/drive\n"
          ]
        }
      ]
    },
    {
      "cell_type": "code",
      "execution_count": 3,
      "metadata": {
        "ExecuteTime": {
          "end_time": "2023-08-29T05:54:49.627405Z",
          "start_time": "2023-08-29T05:54:49.619356Z"
        },
        "id": "_ddZzgIiMMZK"
      },
      "outputs": [],
      "source": [
        "data_path = '/content'"
      ]
    },
    {
      "cell_type": "code",
      "execution_count": 4,
      "metadata": {
        "ExecuteTime": {
          "end_time": "2023-08-29T05:54:50.934997Z",
          "start_time": "2023-08-29T05:54:50.930648Z"
        },
        "id": "5MzgHnp4JpIg"
      },
      "outputs": [],
      "source": [
        "def read_data(data_path):\n",
        "  df = pd.read_csv(os.path.join(data_path,'rates.csv'))\n",
        "  train_df, val_df = train_test_split(df, test_size=0.2, random_state=1234, shuffle=True)\n",
        "  return train_df, val_df"
      ]
    },
    {
      "cell_type": "code",
      "execution_count": 28,
      "metadata": {
        "ExecuteTime": {
          "end_time": "2023-08-29T05:54:52.982498Z",
          "start_time": "2023-08-29T05:54:52.720636Z"
        },
        "id": "fqKIrB08qGGd"
      },
      "outputs": [],
      "source": [
        "# 런타임 유형에서 꼭 GPU 선택하기"
      ]
    },
    {
      "cell_type": "code",
      "execution_count": 8,
      "metadata": {
        "ExecuteTime": {
          "end_time": "2023-08-29T05:56:44.772696Z",
          "start_time": "2023-08-29T05:56:44.679076Z"
        },
        "id": "VZ8oc1G-NYsO"
      },
      "outputs": [],
      "source": [
        "# 학습할 영화 데이터 분석\n",
        "train_df, val_df = read_data(data_path)"
      ]
    },
    {
      "cell_type": "code",
      "execution_count": 9,
      "metadata": {
        "ExecuteTime": {
          "end_time": "2023-08-29T05:56:45.610633Z",
          "start_time": "2023-08-29T05:56:45.594778Z"
        },
        "id": "DsohSsCHNeXx",
        "colab": {
          "base_uri": "https://localhost:8080/"
        },
        "outputId": "a4a76b63-d77b-46f9-e4af-0f76681ed6ae"
      },
      "outputs": [
        {
          "output_type": "stream",
          "name": "stdout",
          "text": [
            "(112568, 4)\n",
            "         user  movie  rate        time\n",
            "137023  48423  10764    10  1212241560\n",
            "92868   17307  10170    10  1122185220\n",
            "94390   18180  10048    10  1573403460\n",
            "22289    1498  10001     9  1432684500\n",
            "80155   12541  10022    10  1370458140\n"
          ]
        }
      ],
      "source": [
        "print(train_df.shape)\n",
        "print(train_df.head())"
      ]
    },
    {
      "cell_type": "code",
      "execution_count": 10,
      "metadata": {
        "ExecuteTime": {
          "end_time": "2023-08-29T05:56:47.596225Z",
          "start_time": "2023-08-29T05:56:47.586302Z"
        },
        "id": "e8qwa_0RNf_z",
        "colab": {
          "base_uri": "https://localhost:8080/"
        },
        "outputId": "9ad8b5d1-8969-45a7-fae4-646f78e2df90"
      },
      "outputs": [
        {
          "output_type": "execute_result",
          "data": {
            "text/plain": [
              "(28142, 4)"
            ]
          },
          "metadata": {},
          "execution_count": 10
        }
      ],
      "source": [
        "val_df.shape"
      ]
    },
    {
      "cell_type": "code",
      "execution_count": 11,
      "metadata": {
        "ExecuteTime": {
          "end_time": "2023-08-29T05:56:49.171459Z",
          "start_time": "2023-08-29T05:56:48.869891Z"
        },
        "id": "ut8hvxxRJpIg",
        "colab": {
          "base_uri": "https://localhost:8080/",
          "height": 553
        },
        "outputId": "f6496e2f-c9cd-4d1c-c6f7-77807c667b88"
      },
      "outputs": [
        {
          "output_type": "execute_result",
          "data": {
            "text/plain": [
              "<Axes: >"
            ]
          },
          "metadata": {},
          "execution_count": 11
        },
        {
          "output_type": "display_data",
          "data": {
            "text/plain": [
              "<Figure size 1200x700 with 2 Axes>"
            ],
            "image/png": "[encoded data removed]"
          },
          "metadata": {}
        }
      ],
      "source": [
        "fig, ax = plt.subplots(1, 2, sharex='col', sharey='row', figsize=(12,7))\n",
        "ax = ax.ravel()\n",
        "\n",
        "train_df['rate'].hist(ax=ax[0])\n",
        "val_df['rate'].hist(ax=ax[1])"
      ]
    },
    {
      "cell_type": "code",
      "execution_count": 12,
      "metadata": {
        "id": "ochDMXb5JpIi",
        "colab": {
          "base_uri": "https://localhost:8080/"
        },
        "outputId": "557531b6-c244-47f9-e6b6-c815564e6e33"
      },
      "outputs": [
        {
          "output_type": "execute_result",
          "data": {
            "text/plain": [
              "count    112568.000000\n",
              "mean          8.948369\n",
              "std           2.114602\n",
              "min           1.000000\n",
              "25%           9.000000\n",
              "50%          10.000000\n",
              "75%          10.000000\n",
              "max          10.000000\n",
              "Name: rate, dtype: float64"
            ]
          },
          "metadata": {},
          "execution_count": 12
        }
      ],
      "source": [
        "train_df['rate'].describe()"
      ]
    },
    {
      "cell_type": "markdown",
      "metadata": {
        "id": "a7Py8f2EXJzv"
      },
      "source": [
        "## Load movie dataframe"
      ]
    },
    {
      "cell_type": "code",
      "execution_count": 13,
      "metadata": {
        "ExecuteTime": {
          "end_time": "2023-08-29T05:56:56.184521Z",
          "start_time": "2023-08-29T05:56:56.051481Z"
        },
        "id": "IkPeoquPXNvp"
      },
      "outputs": [],
      "source": [
        "#이전 프로젝트에서 로드함\n",
        "\n",
        "# Load all related dataframe\n",
        "movies_df = pd.read_csv(os.path.join(data_path, 'movies.txt'), sep='\\t', encoding='utf-8')\n",
        "movies_df = movies_df.set_index('movie')\n",
        "\n",
        "castings_df = pd.read_csv(os.path.join(data_path, 'castings.csv'), encoding='utf-8')\n",
        "countries_df = pd.read_csv(os.path.join(data_path, 'countries.csv'), encoding='utf-8')\n",
        "genres_df = pd.read_csv(os.path.join(data_path, 'genres.csv'), encoding='utf-8')\n",
        "\n",
        "# Get genre information\n",
        "genres = [(list(set(x['movie'].values))[0], '/'.join(x['genre'].values)) for index, x in genres_df.groupby('movie')]\n",
        "combined_genres_df = pd.DataFrame(data=genres, columns=['movie', 'genres'])\n",
        "combined_genres_df = combined_genres_df.set_index('movie')\n",
        "\n",
        "# Get castings information\n",
        "castings = [(list(set(x['movie'].values))[0], x['people'].values) for index, x in castings_df.groupby('movie')]\n",
        "combined_castings_df = pd.DataFrame(data=castings, columns=['movie','people'])\n",
        "combined_castings_df = combined_castings_df.set_index('movie')\n",
        "\n",
        "# Get countries for movie information\n",
        "countries = [(list(set(x['movie'].values))[0], ','.join(x['country'].values)) for index, x in countries_df.groupby('movie')]\n",
        "combined_countries_df = pd.DataFrame(data=countries, columns=['movie', 'country'])\n",
        "combined_countries_df = combined_countries_df.set_index('movie')\n",
        "\n",
        "movies_df = pd.concat([movies_df, combined_genres_df, combined_castings_df, combined_countries_df], axis=1)\n"
      ]
    },
    {
      "cell_type": "code",
      "execution_count": 14,
      "metadata": {
        "ExecuteTime": {
          "end_time": "2023-08-29T05:56:57.265248Z",
          "start_time": "2023-08-29T05:56:57.242602Z"
        },
        "id": "Z6yE06GxYV3W",
        "colab": {
          "base_uri": "https://localhost:8080/",
          "height": 324
        },
        "outputId": "c01ffbd1-213b-46a1-c1f4-00e1b4143646"
      },
      "outputs": [
        {
          "output_type": "execute_result",
          "data": {
            "text/plain": [
              "                      title                           title_eng    year  \\\n",
              "movie                                                                     \n",
              "10001                시네마 천국              Cinema Paradiso , 1988  2013.0   \n",
              "10002              빽 투 더 퓨쳐           Back To The Future , 1985  2015.0   \n",
              "10003            빽 투 더 퓨쳐 2    Back To The Future Part 2 , 1989  2015.0   \n",
              "10004            빽 투 더 퓨쳐 3  Back To The Future Part III , 1990  1990.0   \n",
              "10005  스타워즈 에피소드 4 - 새로운 희망                    Star Wars , 1977  1997.0   \n",
              "\n",
              "         grade         genres  \\\n",
              "movie                           \n",
              "10001   전체 관람가     드라마/멜로/로맨스   \n",
              "10002  12세 관람가         SF/코미디   \n",
              "10003  12세 관람가         SF/코미디   \n",
              "10004   전체 관람가  서부/SF/판타지/코미디   \n",
              "10005       PG   판타지/모험/SF/액션   \n",
              "\n",
              "                                                  people   country  \n",
              "movie                                                               \n",
              "10001  [4374, 178, 3241, 47952, 47953, 19538, 18991, ...  이탈리아,프랑스  \n",
              "10002    [1076, 4603, 917, 8637, 5104, 9986, 7470, 9987]        미국  \n",
              "10003  [1076, 4603, 917, 5104, 391, 5106, 5105, 5107,...        미국  \n",
              "10004  [1076, 4603, 1031, 5104, 10001, 5984, 10002, 1...        미국  \n",
              "10005                         [1007, 535, 215, 1236, 35]        미국  "
            ],
            "text/html": [
              "\n",
              "  <div id=\"df-60ce68c4-5488-450c-8c9d-4749b44f17f8\" class=\"colab-df-container\">\n",
              "    <div>\n",
              "<style scoped>\n",
              "    .dataframe tbody tr th:only-of-type {\n",
              "        vertical-align: middle;\n",
              "    }\n",
              "\n",
              "    .dataframe tbody tr th {\n",
              "        vertical-align: top;\n",
              "    }\n",
              "\n",
              "    .dataframe thead th {\n",
              "        text-align: right;\n",
              "    }\n",
              "</style>\n",
              "<table border=\"1\" class=\"dataframe\">\n",
              "  <thead>\n",
              "    <tr style=\"text-align: right;\">\n",
              "      <th></th>\n",
              "      <th>title</th>\n",
              "      <th>title_eng</th>\n",
              "      <th>year</th>\n",
              "      <th>grade</th>\n",
              "      <th>genres</th>\n",
              "      <th>people</th>\n",
              "      <th>country</th>\n",
              "    </tr>\n",
              "    <tr>\n",
              "      <th>movie</th>\n",
              "      <th></th>\n",
              "      <th></th>\n",
              "      <th></th>\n",
              "      <th></th>\n",
              "      <th></th>\n",
              "      <th></th>\n",
              "      <th></th>\n",
              "    </tr>\n",
              "  </thead>\n",
              "  <tbody>\n",
              "    <tr>\n",
              "      <th>10001</th>\n",
              "      <td>시네마 천국</td>\n",
              "      <td>Cinema Paradiso , 1988</td>\n",
              "      <td>2013.0</td>\n",
              "      <td>전체 관람가</td>\n",
              "      <td>드라마/멜로/로맨스</td>\n",
              "      <td>[4374, 178, 3241, 47952, 47953, 19538, 18991, ...</td>\n",
              "      <td>이탈리아,프랑스</td>\n",
              "    </tr>\n",
              "    <tr>\n",
              "      <th>10002</th>\n",
              "      <td>빽 투 더 퓨쳐</td>\n",
              "      <td>Back To The Future , 1985</td>\n",
              "      <td>2015.0</td>\n",
              "      <td>12세 관람가</td>\n",
              "      <td>SF/코미디</td>\n",
              "      <td>[1076, 4603, 917, 8637, 5104, 9986, 7470, 9987]</td>\n",
              "      <td>미국</td>\n",
              "    </tr>\n",
              "    <tr>\n",
              "      <th>10003</th>\n",
              "      <td>빽 투 더 퓨쳐 2</td>\n",
              "      <td>Back To The Future Part 2 , 1989</td>\n",
              "      <td>2015.0</td>\n",
              "      <td>12세 관람가</td>\n",
              "      <td>SF/코미디</td>\n",
              "      <td>[1076, 4603, 917, 5104, 391, 5106, 5105, 5107,...</td>\n",
              "      <td>미국</td>\n",
              "    </tr>\n",
              "    <tr>\n",
              "      <th>10004</th>\n",
              "      <td>빽 투 더 퓨쳐 3</td>\n",
              "      <td>Back To The Future Part III , 1990</td>\n",
              "      <td>1990.0</td>\n",
              "      <td>전체 관람가</td>\n",
              "      <td>서부/SF/판타지/코미디</td>\n",
              "      <td>[1076, 4603, 1031, 5104, 10001, 5984, 10002, 1...</td>\n",
              "      <td>미국</td>\n",
              "    </tr>\n",
              "    <tr>\n",
              "      <th>10005</th>\n",
              "      <td>스타워즈 에피소드 4 - 새로운 희망</td>\n",
              "      <td>Star Wars , 1977</td>\n",
              "      <td>1997.0</td>\n",
              "      <td>PG</td>\n",
              "      <td>판타지/모험/SF/액션</td>\n",
              "      <td>[1007, 535, 215, 1236, 35]</td>\n",
              "      <td>미국</td>\n",
              "    </tr>\n",
              "  </tbody>\n",
              "</table>\n",
              "</div>\n",
              "    <div class=\"colab-df-buttons\">\n",
              "\n",
              "  <div class=\"colab-df-container\">\n",
              "    <button class=\"colab-df-convert\" onclick=\"convertToInteractive('df-60ce68c4-5488-450c-8c9d-4749b44f17f8')\"\n",
              "            title=\"Convert this dataframe to an interactive table.\"\n",
              "            style=\"display:none;\">\n",
              "\n",
              "  <svg xmlns=\"http://www.w3.org/2000/svg\" height=\"24px\" viewBox=\"0 -960 960 960\">\n",
              "    <path d=\"M120-120v-720h720v720H120Zm60-500h600v-160H180v160Zm220 220h160v-160H400v160Zm0 220h160v-160H400v160ZM180-400h160v-160H180v160Zm440 0h160v-160H620v160ZM180-180h160v-160H180v160Zm440 0h160v-160H620v160Z\"/>\n",
              "  </svg>\n",
              "    </button>\n",
              "\n",
              "  <style>\n",
              "    .colab-df-container {\n",
              "      display:flex;\n",
              "      gap: 12px;\n",
              "    }\n",
              "\n",
              "    .colab-df-convert {\n",
              "      background-color: #E8F0FE;\n",
              "      border: none;\n",
              "      border-radius: 50%;\n",
              "      cursor: pointer;\n",
              "      display: none;\n",
              "      fill: #1967D2;\n",
              "      height: 32px;\n",
              "      padding: 0 0 0 0;\n",
              "      width: 32px;\n",
              "    }\n",
              "\n",
              "    .colab-df-convert:hover {\n",
              "      background-color: #E2EBFA;\n",
              "      box-shadow: 0px 1px 2px rgba(60, 64, 67, 0.3), 0px 1px 3px 1px rgba(60, 64, 67, 0.15);\n",
              "      fill: #174EA6;\n",
              "    }\n",
              "\n",
              "    .colab-df-buttons div {\n",
              "      margin-bottom: 4px;\n",
              "    }\n",
              "\n",
              "    [theme=dark] .colab-df-convert {\n",
              "      background-color: #3B4455;\n",
              "      fill: #D2E3FC;\n",
              "    }\n",
              "\n",
              "    [theme=dark] .colab-df-convert:hover {\n",
              "      background-color: #434B5C;\n",
              "      box-shadow: 0px 1px 3px 1px rgba(0, 0, 0, 0.15);\n",
              "      filter: drop-shadow(0px 1px 2px rgba(0, 0, 0, 0.3));\n",
              "      fill: #FFFFFF;\n",
              "    }\n",
              "  </style>\n",
              "\n",
              "    <script>\n",
              "      const buttonEl =\n",
              "        document.querySelector('#df-60ce68c4-5488-450c-8c9d-4749b44f17f8 button.colab-df-convert');\n",
              "      buttonEl.style.display =\n",
              "        google.colab.kernel.accessAllowed ? 'block' : 'none';\n",
              "\n",
              "      async function convertToInteractive(key) {\n",
              "        const element = document.querySelector('#df-60ce68c4-5488-450c-8c9d-4749b44f17f8');\n",
              "        const dataTable =\n",
              "          await google.colab.kernel.invokeFunction('convertToInteractive',\n",
              "                                                    [key], {});\n",
              "        if (!dataTable) return;\n",
              "\n",
              "        const docLinkHtml = 'Like what you see? Visit the ' +\n",
              "          '<a target=\"_blank\" href=https://colab.research.google.com/notebooks/data_table.ipynb>data table notebook</a>'\n",
              "          + ' to learn more about interactive tables.';\n",
              "        element.innerHTML = '';\n",
              "        dataTable['output_type'] = 'display_data';\n",
              "        await google.colab.output.renderOutput(dataTable, element);\n",
              "        const docLink = document.createElement('div');\n",
              "        docLink.innerHTML = docLinkHtml;\n",
              "        element.appendChild(docLink);\n",
              "      }\n",
              "    </script>\n",
              "  </div>\n",
              "\n",
              "\n",
              "<div id=\"df-9be8bcdd-fbca-4711-adad-4e90d64ec5b4\">\n",
              "  <button class=\"colab-df-quickchart\" onclick=\"quickchart('df-9be8bcdd-fbca-4711-adad-4e90d64ec5b4')\"\n",
              "            title=\"Suggest charts.\"\n",
              "            style=\"display:none;\">\n",
              "\n",
              "<svg xmlns=\"http://www.w3.org/2000/svg\" height=\"24px\"viewBox=\"0 0 24 24\"\n",
              "     width=\"24px\">\n",
              "    <g>\n",
              "        <path d=\"M19 3H5c-1.1 0-2 .9-2 2v14c0 1.1.9 2 2 2h14c1.1 0 2-.9 2-2V5c0-1.1-.9-2-2-2zM9 17H7v-7h2v7zm4 0h-2V7h2v10zm4 0h-2v-4h2v4z\"/>\n",
              "    </g>\n",
              "</svg>\n",
              "  </button>\n",
              "\n",
              "<style>\n",
              "  .colab-df-quickchart {\n",
              "    background-color: #E8F0FE;\n",
              "    border: none;\n",
              "    border-radius: 50%;\n",
              "    cursor: pointer;\n",
              "    display: none;\n",
              "    fill: #1967D2;\n",
              "    height: 32px;\n",
              "    padding: 0 0 0 0;\n",
              "    width: 32px;\n",
              "  }\n",
              "\n",
              "  .colab-df-quickchart:hover {\n",
              "    background-color: #E2EBFA;\n",
              "    box-shadow: 0px 1px 2px rgba(60, 64, 67, 0.3), 0px 1px 3px 1px rgba(60, 64, 67, 0.15);\n",
              "    fill: #174EA6;\n",
              "  }\n",
              "\n",
              "  [theme=dark] .colab-df-quickchart {\n",
              "    background-color: #3B4455;\n",
              "    fill: #D2E3FC;\n",
              "  }\n",
              "\n",
              "  [theme=dark] .colab-df-quickchart:hover {\n",
              "    background-color: #434B5C;\n",
              "    box-shadow: 0px 1px 3px 1px rgba(0, 0, 0, 0.15);\n",
              "    filter: drop-shadow(0px 1px 2px rgba(0, 0, 0, 0.3));\n",
              "    fill: #FFFFFF;\n",
              "  }\n",
              "</style>\n",
              "\n",
              "  <script>\n",
              "    async function quickchart(key) {\n",
              "      const charts = await google.colab.kernel.invokeFunction(\n",
              "          'suggestCharts', [key], {});\n",
              "    }\n",
              "    (() => {\n",
              "      let quickchartButtonEl =\n",
              "        document.querySelector('#df-9be8bcdd-fbca-4711-adad-4e90d64ec5b4 button');\n",
              "      quickchartButtonEl.style.display =\n",
              "        google.colab.kernel.accessAllowed ? 'block' : 'none';\n",
              "    })();\n",
              "  </script>\n",
              "</div>\n",
              "    </div>\n",
              "  </div>\n"
            ]
          },
          "metadata": {},
          "execution_count": 14
        }
      ],
      "source": [
        "movies_df.head()"
      ]
    },
    {
      "cell_type": "markdown",
      "metadata": {
        "id": "qkIRJboJq-8j"
      },
      "source": [
        "- 논문:  user latent vector + item latent vector\n",
        "- 새롭게 생각할 수 있는 방법: user latent vector + item latent vector + etc vector (예시) meta information"
      ]
    },
    {
      "cell_type": "code",
      "execution_count": 15,
      "metadata": {
        "ExecuteTime": {
          "end_time": "2023-08-29T05:56:58.863070Z",
          "start_time": "2023-08-29T05:56:58.838058Z"
        },
        "id": "cSfHpEHpJpIi"
      },
      "outputs": [],
      "source": [
        "# 영화 데이터의 메타 정보를 확인한다\n",
        "movieName_dict = movies_df.to_dict()['title']\n",
        "genres_dict = movies_df.to_dict()['genres']"
      ]
    },
    {
      "cell_type": "code",
      "execution_count": 16,
      "metadata": {
        "ExecuteTime": {
          "end_time": "2023-08-29T05:56:59.139170Z",
          "start_time": "2023-08-29T05:56:59.125862Z"
        },
        "id": "IvnmEfzMJpIj",
        "colab": {
          "base_uri": "https://localhost:8080/"
        },
        "outputId": "0fa1e17f-dffe-41cf-decb-ab72b8c66d09"
      },
      "outputs": [
        {
          "output_type": "execute_result",
          "data": {
            "text/plain": [
              "movie\n",
              "10001       드라마/멜로/로맨스\n",
              "10002           SF/코미디\n",
              "10003           SF/코미디\n",
              "10004    서부/SF/판타지/코미디\n",
              "10005     판타지/모험/SF/액션\n",
              "             ...      \n",
              "10995              스릴러\n",
              "10996              코미디\n",
              "10997               공포\n",
              "10998    드라마/액션/모험/스릴러\n",
              "10999        SF/드라마/공포\n",
              "Name: genres, Length: 999, dtype: object"
            ]
          },
          "metadata": {},
          "execution_count": 16
        }
      ],
      "source": [
        "movies_df['genres']"
      ]
    },
    {
      "cell_type": "markdown",
      "metadata": {
        "id": "TygbVbUaJpIl"
      },
      "source": [
        "## Dataset Loader"
      ]
    },
    {
      "cell_type": "code",
      "execution_count": 29,
      "metadata": {
        "ExecuteTime": {
          "end_time": "2023-08-29T05:57:00.536664Z",
          "start_time": "2023-08-29T05:57:00.521611Z"
        },
        "id": "E3bh5SEJJpIl"
      },
      "outputs": [],
      "source": [
        "class DatasetLoader:\n",
        "    def __init__(self, data_path):\n",
        "\n",
        "        # 데이터 경로를 입력받아 데이터 프레임을 생성\n",
        "        self.train_df, self.val_temp_df = read_data(data_path)\n",
        "\n",
        "        # 최소 및 최대 평점을 찾기\n",
        "        self.min_rating = min(self.train_df.rate)\n",
        "        self.max_rating = max(self.train_df.rate)\n",
        "\n",
        "                      #논문에 따르면 0인지 1인지 rating에 부여해야만 하나 본 구현에서는 그대로 활용\n",
        "\n",
        "\n",
        "\n",
        "        # 고유한 사용자 및 영화를 찾기\n",
        "        self.unique_users = self.train_df.user.unique()\n",
        "\n",
        "        # 사용자의 수를 세고, 각 사용자에게 고유한 인덱스를 부여\n",
        "        self.num_users = len(self.unique_users)\n",
        "        self.user_to_index = {original: idx for idx, original in enumerate(self.unique_users)}\n",
        "\n",
        "        # 각 영화에게 고유한 인덱스를 부여\n",
        "        self.unique_movies = self.train_df.movie.unique()\n",
        "        self.num_movies = len(self.unique_movies)\n",
        "        self.movie_to_index = {original: idx for idx, original in enumerate(self.unique_movies)}\n",
        "                                  #10001번은 1, 100002번은 2 ...\n",
        "\n",
        "        # 검증 세트에서 학습 세트에서 사용되지 않는 사용자 및 영화를 제거\n",
        "        self.val_df = self.val_temp_df[self.val_temp_df.user.isin(self.unique_users) & self.val_temp_df.movie.isin(self.unique_movies)]\n",
        "\n",
        "    def generate_trainset(self):\n",
        "      # 사용자와 영화를 인덱스에 매핑\n",
        "       # 각각의 사용자와 영화 아이디를 앞서 정의된 인덱스로 매핑하고 이들을 X_train으로 반환하고\n",
        "      # 평점 정보는 y_train으로 반환\n",
        "        X_train = pd.DataFrame({'user': self.train_df.user.map(self.user_to_index),\n",
        "                             'movie': self.train_df.movie.map(self.movie_to_index)})\n",
        "        y_train = self.train_df['rate'].astype(np.float32)\n",
        "\n",
        "        return X_train, y_train\n",
        "\n",
        "    def generate_valset(self):\n",
        "       #검증 데이터셋을 생성하는 함수\n",
        "       #학습 데이터셋과 동일하게 처리하여 X_val과 y_val로 반환\n",
        "        X_val = pd.DataFrame({'user': self.val_df.user.map(self.user_to_index),\n",
        "                              'movie': self.val_df.movie.map(self.movie_to_index)})\n",
        "        y_val = self.val_df['rate'].astype(np.float32)\n",
        "\n",
        "        return X_val, y_val\n",
        "\n"
      ]
    },
    {
      "cell_type": "markdown",
      "metadata": {
        "id": "Ep1DLtpHJpIm"
      },
      "source": [
        "## Model Structure\n",
        "- 논문에서 제시한 모델 구조를 그대로 구현하고 KMRD 로 실습\n",
        "- User Vector는 전체 영화 데이터에서 영화를 평가한 userid를 onehot vector로 나타낸 형태\n",
        "- Item Vector는 전체 영화 데이터에 등장하는 영화의 id를 onehot vector로 나타낸 형태\n",
        "\n"
      ]
    },
    {
      "cell_type": "code",
      "execution_count": 18,
      "metadata": {
        "ExecuteTime": {
          "end_time": "2023-08-29T05:57:21.276846Z",
          "start_time": "2023-08-29T05:57:21.261569Z"
        },
        "id": "1QAZm2wQJpIm"
      },
      "outputs": [],
      "source": [
        "class FeedForwardEmbedNN(nn.Module):\n",
        "\n",
        "    def __init__(self, n_users, n_movies, hidden, dropouts, n_factors, embedding_dropout):\n",
        "        super().__init__()\n",
        "        self.user_emb = nn.Embedding(n_users, n_factors)  # 사용자 임베딩 레이어, n_users는 사용자 수, n_factors는 임베딩 크기\n",
        "        self.movie_emb = nn.Embedding(n_movies, n_factors)  # 영화 임베딩 레이어\n",
        "        self.drop = nn.Dropout(embedding_dropout)  # 과적합 방지용 드롭아웃 레이어\n",
        "        self.hidden_layers = nn.Sequential(*list(self.generate_layers(n_factors*2, hidden, dropouts)))  # 은닉층을 담을 Sequential 컨테이너\n",
        "        self.fc = nn.Linear(hidden[-1], 1)  # 출력용 선형 레이어\n",
        "\n",
        "    def generate_layers(self, n_factors, hidden, dropouts):\n",
        "        assert len(dropouts) == len(hidden)  # 드롭아웃 레이어의 개수가 은닉층의 개수와 같은지 확인\n",
        "\n",
        "        idx = 0\n",
        "        while idx < len(hidden):\n",
        "            if idx == 0:  # 첫 번째 은닉층은 임베딩 크기를 입력으로 받음\n",
        "                yield nn.Linear(n_factors, hidden[idx])\n",
        "            else:  # 나머지 은닉층은 이전 층의 출력을 입력으로 받음\n",
        "                yield nn.Linear(hidden[idx-1], hidden[idx])\n",
        "            yield nn.ReLU()  # ReLU 활성화 함수\n",
        "            yield nn.Dropout(dropouts[idx])  # 드롭아웃 레이어\n",
        "\n",
        "            idx += 1\n",
        "\n",
        "    def forward(self, users, movies, min_rating=0.5, max_rating=5):\n",
        "\n",
        "                      #user_emb와 movie_emb를 concat 한 것을 hidden_layeers를 통과 시켜서 relu 통과, fc된 값을 시그모이드\n",
        "\n",
        "        concat_features = torch.cat([self.user_emb(users), self.movie_emb(movies)], dim=1)  # 사용자 임베딩과 영화 임베딩을 연결\n",
        "        x = F.relu(self.hidden_layers(concat_features))  # 연결된 특징을 은닉층에 적용\n",
        "        # 0과 1 사이의 숫자로 나타냄\n",
        "        out = torch.sigmoid(self.fc(x))\n",
        "        # 평점으로 변환\n",
        "        out = (out * (max_rating - min_rating)) + min_rating\n",
        "\n",
        "        return out\n",
        "\n",
        "    def predict(self, users, movies):\n",
        "        # 점수 반환\n",
        "        output_scores = self.forward(users, movies)\n",
        "        return output_scores\n"
      ]
    },
    {
      "cell_type": "code",
      "execution_count": 19,
      "metadata": {
        "ExecuteTime": {
          "end_time": "2023-08-29T05:57:22.409488Z",
          "start_time": "2023-08-29T05:57:22.397410Z"
        },
        "id": "bmy6566FJpIn"
      },
      "outputs": [],
      "source": [
        "class BatchIterator:\n",
        "\n",
        "    def __init__(self, X, y, batch_size=32, shuffle=True):\n",
        "        # X와 y를 NumPy 배열로 변환\n",
        "        X, y = np.asarray(X), np.asarray(y)\n",
        "\n",
        "        # shuffle이 True인 경우 데이터를 무작위로 섞음\n",
        "        if shuffle:\n",
        "            index = np.random.permutation(X.shape[0])\n",
        "            X, y = X[index], y[index]\n",
        "\n",
        "        # 초기화: 입력 데이터(X), 타겟 데이터(y), 배치 크기(batch_size),\n",
        "        # 데이터를 섞을지 여부(shuffle), 배치의 총 개수(n_batches)\n",
        "        self.X = X\n",
        "        self.y = y\n",
        "        self.batch_size = batch_size\n",
        "        self.shuffle = shuffle\n",
        "        self.n_batches = int(math.ceil(X.shape[0] // batch_size))\n",
        "\n",
        "        # 현재 배치 위치 (_current)를 0으로 설정.\n",
        "        # _current는 next() 메소드가 호출될 때마다 1씩 증가하여 다음 배치를 가리키게 됨.\n",
        "        self._current = 0\n",
        "\n",
        "    def __iter__(self):\n",
        "        # 이터레이터 프로토콜을 위한 메소드.\n",
        "        # 이터레이터는 'for' 루프 등 Python의 반복문에서 사용할 수 있도록 해주는 객체\n",
        "        return self\n",
        "\n",
        "    def __next__(self):\n",
        "        # Python3의 이터레이션 프로토콜에 따른 다음 요소 반환을 위한 메소드\n",
        "        return self.next()\n",
        "\n",
        "    def next(self):\n",
        "        # 모든 배치가 소진되었다면 StopIteration 예외 발생시킴\n",
        "        if self._current >= self.n_batches:\n",
        "            raise StopIteration()\n",
        "\n",
        "        k = self._current\n",
        "\n",
        "        # 현재 배치 위치를 하나 증가시킴\n",
        "        self._current += 1\n",
        "\n",
        "        bs = self.batch_size\n",
        "\n",
        "        # 현재 배치에 해당하는 입력과 타겟 데이터 반환\n",
        "        return self.X[k * bs:(k + 1) * bs], self.y[k * bs:(k + 1) * bs]\n"
      ]
    },
    {
      "cell_type": "code",
      "execution_count": 20,
      "metadata": {
        "ExecuteTime": {
          "end_time": "2023-08-29T05:57:24.078083Z",
          "start_time": "2023-08-29T05:57:24.072026Z"
        },
        "id": "qbiX6uwuJpIn"
      },
      "outputs": [],
      "source": [
        "def batches(X, y, bs=32, shuffle=True):\n",
        "    for x_batch, y_batch in BatchIterator(X, y, bs, shuffle):\n",
        "        x_batch = torch.LongTensor(x_batch)\n",
        "        y_batch = torch.FloatTensor(y_batch)\n",
        "        yield x_batch, y_batch.view(-1, 1)"
      ]
    },
    {
      "cell_type": "markdown",
      "metadata": {
        "id": "7R6I8wWjJpIn"
      },
      "source": [
        "## Train model\n",
        "데이터셋과 모델 학습에 필요한 configuration을 입력하고, 학습을 하는 함수를 만든다\n",
        "configuration을 바꾸면서 모델의 성능을 측정해볼 수 있다."
      ]
    },
    {
      "cell_type": "code",
      "execution_count": 21,
      "metadata": {
        "ExecuteTime": {
          "end_time": "2023-08-29T05:57:25.739039Z",
          "start_time": "2023-08-29T05:57:25.717234Z"
        },
        "id": "6stv_nRnJpIo"
      },
      "outputs": [],
      "source": [
        "def model_train(ds, config):\n",
        "    # GPU를 사용할 수 있는 경우 'cuda:0'을, 그렇지 않은 경우 'cpu'를 device로 설정\n",
        "    device = torch.device('cuda:0' if torch.cuda.is_available() else 'cpu')\n",
        "\n",
        "    # 학습 데이터와 검증 데이터를 생성\n",
        "    X_train, y_train = ds.generate_trainset()\n",
        "    X_valid, y_valid = ds.generate_valset()\n",
        "    print(f'TrainSet Info: {ds.num_users} users, {ds.num_movies} movies')\n",
        "\n",
        "    model = FeedForwardEmbedNN(\n",
        "        n_users=ds.num_users, n_movies=ds.num_movies,\n",
        "        n_factors=config['num_factors'], hidden=config['hidden_layers'],\n",
        "        embedding_dropout=config['embedding_dropout'], dropouts=config['dropouts']\n",
        "    )\n",
        "    model.to(device) # 모델을 위에서 정의한 device로 이동\n",
        "\n",
        "    # 설정값 로드\n",
        "    batch_size = config['batch_size']\n",
        "    num_epochs = config['num_epochs']\n",
        "    max_patience = config['total_patience']\n",
        "    num_patience = 0\n",
        "    best_loss = np.inf\n",
        "\n",
        "    criterion = nn.MSELoss(reduction='sum')\n",
        "    criterion.to(device)\n",
        "    optimizer = optim.Adam(model.parameters(), lr=config['learning_rate'], weight_decay=config['weight_decay'])\n",
        "\n",
        "    result = dict()\n",
        "    for epoch in tqdm(range(num_epochs)):\n",
        "        training_loss = 0.0\n",
        "        for batch in batches(X_train, y_train, shuffle=True, bs=batch_size):\n",
        "            x_batch, y_batch = [b.to(device) for b in batch]\n",
        "            optimizer.zero_grad()\n",
        "            # with torch.no_grad() 와 동일한 syntax\n",
        "            with torch.set_grad_enabled(True):\n",
        "                outputs = model(x_batch[:, 0], x_batch[:, 1], ds.min_rating, ds.max_rating)\n",
        "                loss = criterion(outputs, y_batch)\n",
        "                loss.backward()\n",
        "                optimizer.step()\n",
        "            training_loss += loss.item()\n",
        "        result['train'] = training_loss / len(X_train)\n",
        "\n",
        "        # Apply Early Stopping criteria and save best model params\n",
        "        val_outputs = model(torch.LongTensor(X_valid.user.values).to(device),\n",
        "                            torch.LongTensor(X_valid.movie.values).to(device), ds.min_rating, ds.max_rating)\n",
        "        val_loss = criterion(val_outputs.to(device), torch.FloatTensor(y_valid.values).view(-1, 1).to(device))\n",
        "        result['val'] = float((val_loss / len(X_valid)).data)\n",
        "\n",
        "        if val_loss < best_loss:\n",
        "            print('Save new model on epoch: %d' % (epoch + 1))\n",
        "            best_loss = val_loss\n",
        "            result['best_loss'] = val_loss\n",
        "            torch.save(model.state_dict(), config['save_path'])\n",
        "            num_patience = 0\n",
        "        else:\n",
        "            num_patience += 1\n",
        "\n",
        "        print(f'[epoch: {epoch+1}] train: {result[\"train\"]} - val: {result[\"val\"]}')\n",
        "\n",
        "        if num_patience >= max_patience:\n",
        "            print(f\"Early Stopped after epoch {epoch+1}\")\n",
        "            break\n",
        "\n",
        "    return result"
      ]
    },
    {
      "cell_type": "code",
      "execution_count": 22,
      "metadata": {
        "ExecuteTime": {
          "end_time": "2023-08-29T05:57:26.509358Z",
          "start_time": "2023-08-29T05:57:26.499612Z"
        },
        "id": "fawHamk_JpIo"
      },
      "outputs": [],
      "source": [
        "def model_valid(user_id_list, movie_id_list, data_path):\n",
        "    dataset = DatasetLoader(data_path)\n",
        "    processed_test_input_df = pd.DataFrame({\n",
        "        'user_id': [dataset.user_to_index[x] for x in user_id_list],\n",
        "        'movie_id': [dataset.movie_to_index[x] for x in movie_id_list]\n",
        "    })\n",
        "\n",
        "    # 학습한 모델 load하기\n",
        "    my_model = FeedForwardEmbedNN(dataset.num_users, dataset.num_movies,\n",
        "                       config['hidden_layers'], config['dropouts'], config['num_factors'], config['embedding_dropout'])\n",
        "    my_model.load_state_dict(torch.load('params.data'))\n",
        "    prediction_outputs = my_model.predict(users=torch.LongTensor(processed_test_input_df.user_id.values),\n",
        "                     movies=torch.LongTensor(processed_test_input_df.movie_id.values))\n",
        "\n",
        "    return prediction_outputs"
      ]
    },
    {
      "cell_type": "code",
      "execution_count": 23,
      "metadata": {
        "ExecuteTime": {
          "end_time": "2023-08-29T05:57:27.532502Z",
          "start_time": "2023-08-29T05:57:27.454583Z"
        },
        "id": "liavZI4zJpIp"
      },
      "outputs": [],
      "source": [
        "dataset = DatasetLoader(data_path)"
      ]
    },
    {
      "cell_type": "code",
      "execution_count": 24,
      "metadata": {
        "ExecuteTime": {
          "end_time": "2023-08-29T05:57:27.727665Z",
          "start_time": "2023-08-29T05:57:27.725323Z"
        },
        "id": "1xEzqD2cJpIp"
      },
      "outputs": [],
      "source": [
        "config = {\n",
        "  \"num_factors\": 16,\n",
        "  \"hidden_layers\": [64, 32, 16],\n",
        "  \"embedding_dropout\": 0.05,\n",
        "  \"dropouts\": [0.3, 0.3, 0.3],\n",
        "  \"learning_rate\": 1e-3,\n",
        "  \"weight_decay\": 1e-5,\n",
        "  \"batch_size\": 8,\n",
        "  \"num_epochs\": 3,\n",
        "  \"total_patience\": 30,\n",
        "  \"save_path\": \"params.data\"\n",
        "}"
      ]
    },
    {
      "cell_type": "code",
      "execution_count": 25,
      "metadata": {
        "ExecuteTime": {
          "end_time": "2023-08-29T05:58:55.606236Z",
          "start_time": "2023-08-29T05:57:28.719834Z"
        },
        "id": "9SFyhQr-JpIp",
        "colab": {
          "base_uri": "https://localhost:8080/"
        },
        "outputId": "649c7a7a-d813-4199-a80d-700ceabdad83"
      },
      "outputs": [
        {
          "output_type": "stream",
          "name": "stdout",
          "text": [
            "TrainSet Info: 44453 users, 597 movies\n"
          ]
        },
        {
          "output_type": "stream",
          "name": "stderr",
          "text": [
            " 33%|███▎      | 1/3 [00:39<01:19, 39.62s/it]"
          ]
        },
        {
          "output_type": "stream",
          "name": "stdout",
          "text": [
            "Save new model on epoch: 1\n",
            "[epoch: 1] train: 4.346519946282375 - val: 3.906862497329712\n"
          ]
        },
        {
          "output_type": "stream",
          "name": "stderr",
          "text": [
            "\r 67%|██████▋   | 2/3 [01:14<00:37, 37.02s/it]"
          ]
        },
        {
          "output_type": "stream",
          "name": "stdout",
          "text": [
            "Save new model on epoch: 2\n",
            "[epoch: 2] train: 3.7447014706931143 - val: 3.617949962615967\n"
          ]
        },
        {
          "output_type": "stream",
          "name": "stderr",
          "text": [
            "100%|██████████| 3/3 [01:48<00:00, 36.33s/it]"
          ]
        },
        {
          "output_type": "stream",
          "name": "stdout",
          "text": [
            "[epoch: 3] train: 3.3398767612917792 - val: 3.6203248500823975\n"
          ]
        },
        {
          "output_type": "stream",
          "name": "stderr",
          "text": [
            "\n"
          ]
        },
        {
          "output_type": "execute_result",
          "data": {
            "text/plain": [
              "{'train': 3.3398767612917792,\n",
              " 'val': 3.6203248500823975,\n",
              " 'best_loss': tensor(73285.1953, device='cuda:0', grad_fn=<MseLossBackward0>)}"
            ]
          },
          "metadata": {},
          "execution_count": 25
        }
      ],
      "source": [
        "model_train(dataset, config)"
      ]
    },
    {
      "cell_type": "code",
      "execution_count": 26,
      "metadata": {
        "ExecuteTime": {
          "end_time": "2023-08-29T05:59:04.878991Z",
          "start_time": "2023-08-29T05:59:04.544328Z"
        },
        "id": "66PToOALWUZB",
        "colab": {
          "base_uri": "https://localhost:8080/",
          "height": 206
        },
        "outputId": "12c1587a-aab2-468f-c63b-86c13963878c"
      },
      "outputs": [
        {
          "output_type": "execute_result",
          "data": {
            "text/plain": [
              "         user  movie  rate        time\n",
              "76196   11242  10253    10  1437788760\n",
              "109800  26903  10102    10  1322643900\n",
              "60479    7101  10007     1  1314804000\n",
              "71460    9705  10016    10  1228825200\n",
              "73864   10616  10106     8  1425046200"
            ],
            "text/html": [
              "\n",
              "  <div id=\"df-eb0849d5-8442-4377-92d6-8d2aa5a07127\" class=\"colab-df-container\">\n",
              "    <div>\n",
              "<style scoped>\n",
              "    .dataframe tbody tr th:only-of-type {\n",
              "        vertical-align: middle;\n",
              "    }\n",
              "\n",
              "    .dataframe tbody tr th {\n",
              "        vertical-align: top;\n",
              "    }\n",
              "\n",
              "    .dataframe thead th {\n",
              "        text-align: right;\n",
              "    }\n",
              "</style>\n",
              "<table border=\"1\" class=\"dataframe\">\n",
              "  <thead>\n",
              "    <tr style=\"text-align: right;\">\n",
              "      <th></th>\n",
              "      <th>user</th>\n",
              "      <th>movie</th>\n",
              "      <th>rate</th>\n",
              "      <th>time</th>\n",
              "    </tr>\n",
              "  </thead>\n",
              "  <tbody>\n",
              "    <tr>\n",
              "      <th>76196</th>\n",
              "      <td>11242</td>\n",
              "      <td>10253</td>\n",
              "      <td>10</td>\n",
              "      <td>1437788760</td>\n",
              "    </tr>\n",
              "    <tr>\n",
              "      <th>109800</th>\n",
              "      <td>26903</td>\n",
              "      <td>10102</td>\n",
              "      <td>10</td>\n",
              "      <td>1322643900</td>\n",
              "    </tr>\n",
              "    <tr>\n",
              "      <th>60479</th>\n",
              "      <td>7101</td>\n",
              "      <td>10007</td>\n",
              "      <td>1</td>\n",
              "      <td>1314804000</td>\n",
              "    </tr>\n",
              "    <tr>\n",
              "      <th>71460</th>\n",
              "      <td>9705</td>\n",
              "      <td>10016</td>\n",
              "      <td>10</td>\n",
              "      <td>1228825200</td>\n",
              "    </tr>\n",
              "    <tr>\n",
              "      <th>73864</th>\n",
              "      <td>10616</td>\n",
              "      <td>10106</td>\n",
              "      <td>8</td>\n",
              "      <td>1425046200</td>\n",
              "    </tr>\n",
              "  </tbody>\n",
              "</table>\n",
              "</div>\n",
              "    <div class=\"colab-df-buttons\">\n",
              "\n",
              "  <div class=\"colab-df-container\">\n",
              "    <button class=\"colab-df-convert\" onclick=\"convertToInteractive('df-eb0849d5-8442-4377-92d6-8d2aa5a07127')\"\n",
              "            title=\"Convert this dataframe to an interactive table.\"\n",
              "            style=\"display:none;\">\n",
              "\n",
              "  <svg xmlns=\"http://www.w3.org/2000/svg\" height=\"24px\" viewBox=\"0 -960 960 960\">\n",
              "    <path d=\"M120-120v-720h720v720H120Zm60-500h600v-160H180v160Zm220 220h160v-160H400v160Zm0 220h160v-160H400v160ZM180-400h160v-160H180v160Zm440 0h160v-160H620v160ZM180-180h160v-160H180v160Zm440 0h160v-160H620v160Z\"/>\n",
              "  </svg>\n",
              "    </button>\n",
              "\n",
              "  <style>\n",
              "    .colab-df-container {\n",
              "      display:flex;\n",
              "      gap: 12px;\n",
              "    }\n",
              "\n",
              "    .colab-df-convert {\n",
              "      background-color: #E8F0FE;\n",
              "      border: none;\n",
              "      border-radius: 50%;\n",
              "      cursor: pointer;\n",
              "      display: none;\n",
              "      fill: #1967D2;\n",
              "      height: 32px;\n",
              "      padding: 0 0 0 0;\n",
              "      width: 32px;\n",
              "    }\n",
              "\n",
              "    .colab-df-convert:hover {\n",
              "      background-color: #E2EBFA;\n",
              "      box-shadow: 0px 1px 2px rgba(60, 64, 67, 0.3), 0px 1px 3px 1px rgba(60, 64, 67, 0.15);\n",
              "      fill: #174EA6;\n",
              "    }\n",
              "\n",
              "    .colab-df-buttons div {\n",
              "      margin-bottom: 4px;\n",
              "    }\n",
              "\n",
              "    [theme=dark] .colab-df-convert {\n",
              "      background-color: #3B4455;\n",
              "      fill: #D2E3FC;\n",
              "    }\n",
              "\n",
              "    [theme=dark] .colab-df-convert:hover {\n",
              "      background-color: #434B5C;\n",
              "      box-shadow: 0px 1px 3px 1px rgba(0, 0, 0, 0.15);\n",
              "      filter: drop-shadow(0px 1px 2px rgba(0, 0, 0, 0.3));\n",
              "      fill: #FFFFFF;\n",
              "    }\n",
              "  </style>\n",
              "\n",
              "    <script>\n",
              "      const buttonEl =\n",
              "        document.querySelector('#df-eb0849d5-8442-4377-92d6-8d2aa5a07127 button.colab-df-convert');\n",
              "      buttonEl.style.display =\n",
              "        google.colab.kernel.accessAllowed ? 'block' : 'none';\n",
              "\n",
              "      async function convertToInteractive(key) {\n",
              "        const element = document.querySelector('#df-eb0849d5-8442-4377-92d6-8d2aa5a07127');\n",
              "        const dataTable =\n",
              "          await google.colab.kernel.invokeFunction('convertToInteractive',\n",
              "                                                    [key], {});\n",
              "        if (!dataTable) return;\n",
              "\n",
              "        const docLinkHtml = 'Like what you see? Visit the ' +\n",
              "          '<a target=\"_blank\" href=https://colab.research.google.com/notebooks/data_table.ipynb>data table notebook</a>'\n",
              "          + ' to learn more about interactive tables.';\n",
              "        element.innerHTML = '';\n",
              "        dataTable['output_type'] = 'display_data';\n",
              "        await google.colab.output.renderOutput(dataTable, element);\n",
              "        const docLink = document.createElement('div');\n",
              "        docLink.innerHTML = docLinkHtml;\n",
              "        element.appendChild(docLink);\n",
              "      }\n",
              "    </script>\n",
              "  </div>\n",
              "\n",
              "\n",
              "<div id=\"df-fe664e65-2f12-42a5-a83c-68cb78a4ed50\">\n",
              "  <button class=\"colab-df-quickchart\" onclick=\"quickchart('df-fe664e65-2f12-42a5-a83c-68cb78a4ed50')\"\n",
              "            title=\"Suggest charts.\"\n",
              "            style=\"display:none;\">\n",
              "\n",
              "<svg xmlns=\"http://www.w3.org/2000/svg\" height=\"24px\"viewBox=\"0 0 24 24\"\n",
              "     width=\"24px\">\n",
              "    <g>\n",
              "        <path d=\"M19 3H5c-1.1 0-2 .9-2 2v14c0 1.1.9 2 2 2h14c1.1 0 2-.9 2-2V5c0-1.1-.9-2-2-2zM9 17H7v-7h2v7zm4 0h-2V7h2v10zm4 0h-2v-4h2v4z\"/>\n",
              "    </g>\n",
              "</svg>\n",
              "  </button>\n",
              "\n",
              "<style>\n",
              "  .colab-df-quickchart {\n",
              "    background-color: #E8F0FE;\n",
              "    border: none;\n",
              "    border-radius: 50%;\n",
              "    cursor: pointer;\n",
              "    display: none;\n",
              "    fill: #1967D2;\n",
              "    height: 32px;\n",
              "    padding: 0 0 0 0;\n",
              "    width: 32px;\n",
              "  }\n",
              "\n",
              "  .colab-df-quickchart:hover {\n",
              "    background-color: #E2EBFA;\n",
              "    box-shadow: 0px 1px 2px rgba(60, 64, 67, 0.3), 0px 1px 3px 1px rgba(60, 64, 67, 0.15);\n",
              "    fill: #174EA6;\n",
              "  }\n",
              "\n",
              "  [theme=dark] .colab-df-quickchart {\n",
              "    background-color: #3B4455;\n",
              "    fill: #D2E3FC;\n",
              "  }\n",
              "\n",
              "  [theme=dark] .colab-df-quickchart:hover {\n",
              "    background-color: #434B5C;\n",
              "    box-shadow: 0px 1px 3px 1px rgba(0, 0, 0, 0.15);\n",
              "    filter: drop-shadow(0px 1px 2px rgba(0, 0, 0, 0.3));\n",
              "    fill: #FFFFFF;\n",
              "  }\n",
              "</style>\n",
              "\n",
              "  <script>\n",
              "    async function quickchart(key) {\n",
              "      const charts = await google.colab.kernel.invokeFunction(\n",
              "          'suggestCharts', [key], {});\n",
              "    }\n",
              "    (() => {\n",
              "      let quickchartButtonEl =\n",
              "        document.querySelector('#df-fe664e65-2f12-42a5-a83c-68cb78a4ed50 button');\n",
              "      quickchartButtonEl.style.display =\n",
              "        google.colab.kernel.accessAllowed ? 'block' : 'none';\n",
              "    })();\n",
              "  </script>\n",
              "</div>\n",
              "    </div>\n",
              "  </div>\n"
            ]
          },
          "metadata": {},
          "execution_count": 26
        }
      ],
      "source": [
        "val_df.head()"
      ]
    },
    {
      "cell_type": "code",
      "execution_count": 27,
      "metadata": {
        "ExecuteTime": {
          "start_time": "2023-08-29T05:57:29.410Z"
        },
        "id": "ukvOFg52JpIq",
        "colab": {
          "base_uri": "https://localhost:8080/",
          "height": 143
        },
        "outputId": "2d6e6240-7a67-4db3-e96b-c6789364851a"
      },
      "outputs": [
        {
          "output_type": "execute_result",
          "data": {
            "text/plain": [
              "   userId  movieId  pred_ratings\n",
              "1   11242    10102      4.900408\n",
              "2   11242    10007      4.764814\n",
              "0   11242    10253      4.702157"
            ],
            "text/html": [
              "\n",
              "  <div id=\"df-300930cf-521c-4da9-8127-b1549b98a23c\" class=\"colab-df-container\">\n",
              "    <div>\n",
              "<style scoped>\n",
              "    .dataframe tbody tr th:only-of-type {\n",
              "        vertical-align: middle;\n",
              "    }\n",
              "\n",
              "    .dataframe tbody tr th {\n",
              "        vertical-align: top;\n",
              "    }\n",
              "\n",
              "    .dataframe thead th {\n",
              "        text-align: right;\n",
              "    }\n",
              "</style>\n",
              "<table border=\"1\" class=\"dataframe\">\n",
              "  <thead>\n",
              "    <tr style=\"text-align: right;\">\n",
              "      <th></th>\n",
              "      <th>userId</th>\n",
              "      <th>movieId</th>\n",
              "      <th>pred_ratings</th>\n",
              "    </tr>\n",
              "  </thead>\n",
              "  <tbody>\n",
              "    <tr>\n",
              "      <th>1</th>\n",
              "      <td>11242</td>\n",
              "      <td>10102</td>\n",
              "      <td>4.900408</td>\n",
              "    </tr>\n",
              "    <tr>\n",
              "      <th>2</th>\n",
              "      <td>11242</td>\n",
              "      <td>10007</td>\n",
              "      <td>4.764814</td>\n",
              "    </tr>\n",
              "    <tr>\n",
              "      <th>0</th>\n",
              "      <td>11242</td>\n",
              "      <td>10253</td>\n",
              "      <td>4.702157</td>\n",
              "    </tr>\n",
              "  </tbody>\n",
              "</table>\n",
              "</div>\n",
              "    <div class=\"colab-df-buttons\">\n",
              "\n",
              "  <div class=\"colab-df-container\">\n",
              "    <button class=\"colab-df-convert\" onclick=\"convertToInteractive('df-300930cf-521c-4da9-8127-b1549b98a23c')\"\n",
              "            title=\"Convert this dataframe to an interactive table.\"\n",
              "            style=\"display:none;\">\n",
              "\n",
              "  <svg xmlns=\"http://www.w3.org/2000/svg\" height=\"24px\" viewBox=\"0 -960 960 960\">\n",
              "    <path d=\"M120-120v-720h720v720H120Zm60-500h600v-160H180v160Zm220 220h160v-160H400v160Zm0 220h160v-160H400v160ZM180-400h160v-160H180v160Zm440 0h160v-160H620v160ZM180-180h160v-160H180v160Zm440 0h160v-160H620v160Z\"/>\n",
              "  </svg>\n",
              "    </button>\n",
              "\n",
              "  <style>\n",
              "    .colab-df-container {\n",
              "      display:flex;\n",
              "      gap: 12px;\n",
              "    }\n",
              "\n",
              "    .colab-df-convert {\n",
              "      background-color: #E8F0FE;\n",
              "      border: none;\n",
              "      border-radius: 50%;\n",
              "      cursor: pointer;\n",
              "      display: none;\n",
              "      fill: #1967D2;\n",
              "      height: 32px;\n",
              "      padding: 0 0 0 0;\n",
              "      width: 32px;\n",
              "    }\n",
              "\n",
              "    .colab-df-convert:hover {\n",
              "      background-color: #E2EBFA;\n",
              "      box-shadow: 0px 1px 2px rgba(60, 64, 67, 0.3), 0px 1px 3px 1px rgba(60, 64, 67, 0.15);\n",
              "      fill: #174EA6;\n",
              "    }\n",
              "\n",
              "    .colab-df-buttons div {\n",
              "      margin-bottom: 4px;\n",
              "    }\n",
              "\n",
              "    [theme=dark] .colab-df-convert {\n",
              "      background-color: #3B4455;\n",
              "      fill: #D2E3FC;\n",
              "    }\n",
              "\n",
              "    [theme=dark] .colab-df-convert:hover {\n",
              "      background-color: #434B5C;\n",
              "      box-shadow: 0px 1px 3px 1px rgba(0, 0, 0, 0.15);\n",
              "      filter: drop-shadow(0px 1px 2px rgba(0, 0, 0, 0.3));\n",
              "      fill: #FFFFFF;\n",
              "    }\n",
              "  </style>\n",
              "\n",
              "    <script>\n",
              "      const buttonEl =\n",
              "        document.querySelector('#df-300930cf-521c-4da9-8127-b1549b98a23c button.colab-df-convert');\n",
              "      buttonEl.style.display =\n",
              "        google.colab.kernel.accessAllowed ? 'block' : 'none';\n",
              "\n",
              "      async function convertToInteractive(key) {\n",
              "        const element = document.querySelector('#df-300930cf-521c-4da9-8127-b1549b98a23c');\n",
              "        const dataTable =\n",
              "          await google.colab.kernel.invokeFunction('convertToInteractive',\n",
              "                                                    [key], {});\n",
              "        if (!dataTable) return;\n",
              "\n",
              "        const docLinkHtml = 'Like what you see? Visit the ' +\n",
              "          '<a target=\"_blank\" href=https://colab.research.google.com/notebooks/data_table.ipynb>data table notebook</a>'\n",
              "          + ' to learn more about interactive tables.';\n",
              "        element.innerHTML = '';\n",
              "        dataTable['output_type'] = 'display_data';\n",
              "        await google.colab.output.renderOutput(dataTable, element);\n",
              "        const docLink = document.createElement('div');\n",
              "        docLink.innerHTML = docLinkHtml;\n",
              "        element.appendChild(docLink);\n",
              "      }\n",
              "    </script>\n",
              "  </div>\n",
              "\n",
              "    </div>\n",
              "  </div>\n"
            ]
          },
          "metadata": {},
          "execution_count": 27
        }
      ],
      "source": [
        "movie_id_list = [10253, 10102, 10007]\n",
        "user_id = 11242\n",
        "user_id_list = [user_id] * len(movie_id_list)\n",
        "pred_results = [float(x) for x in model_valid(user_id_list, movie_id_list, data_path)]\n",
        "\n",
        "result_df = pd.DataFrame({\n",
        "    'userId': user_id_list,\n",
        "    'movieId': movie_id_list,\n",
        "    # 'movieName': [movieName_dict[x] for x in movie_id_list],\n",
        "    # 'genres': [genres_dict[x] for x in movie_id_list],\n",
        "    'pred_ratings': pred_results\n",
        "})\n",
        "\n",
        "result_df.sort_values(by='pred_ratings', ascending=False)"
      ]
    },
    {
      "cell_type": "code",
      "execution_count": null,
      "metadata": {
        "id": "_bZZOMwCvvUL"
      },
      "outputs": [],
      "source": []
    }
  ],
  "metadata": {
    "accelerator": "GPU",
    "colab": {
      "provenance": []
    },
    "kernelspec": {
      "display_name": "Python 3 (ipykernel)",
      "language": "python",
      "name": "python3"
    },
    "language_info": {
      "codemirror_mode": {
        "name": "ipython",
        "version": 3
      },
      "file_extension": ".py",
      "mimetype": "text/x-python",
      "name": "python",
      "nbconvert_exporter": "python",
      "pygments_lexer": "ipython3",
      "version": "3.9.12"
    },
    "toc": {
      "base_numbering": 1,
      "nav_menu": {},
      "number_sections": true,
      "sideBar": true,
      "skip_h1_title": false,
      "title_cell": "Table of Contents",
      "title_sidebar": "Contents",
      "toc_cell": false,
      "toc_position": {},
      "toc_section_display": true,
      "toc_window_display": false
    },
    "varInspector": {
      "cols": {
        "lenName": 16,
        "lenType": 16,
        "lenVar": 40
      },
      "kernels_config": {
        "python": {
          "delete_cmd_postfix": "",
          "delete_cmd_prefix": "del ",
          "library": "var_list.py",
          "varRefreshCmd": "print(var_dic_list())"
        },
        "r": {
          "delete_cmd_postfix": ") ",
          "delete_cmd_prefix": "rm(",
          "library": "var_list.r",
          "varRefreshCmd": "cat(var_dic_list()) "
        }
      },
      "types_to_exclude": [
        "module",
        "function",
        "builtin_function_or_method",
        "instance",
        "_Feature"
      ],
      "window_display": false
    }
  },
  "nbformat": 4,
  "nbformat_minor": 0
}